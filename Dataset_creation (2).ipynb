{
 "cells": [
  {
   "cell_type": "code",
   "execution_count": 1,
   "id": "54e84d43-f66d-4fe2-b5cd-6e37730e941c",
   "metadata": {},
   "outputs": [],
   "source": [
    "import os\n",
    "import numpy as np\n",
    "import pandas as pd"
   ]
  },
  {
   "cell_type": "code",
   "execution_count": 2,
   "id": "eabead35-0df1-4eb7-b90d-73b59669cf82",
   "metadata": {},
   "outputs": [],
   "source": [
    "time_path = \"Time\"\n",
    "frequency_path = \"Frequency\""
   ]
  },
  {
   "cell_type": "code",
   "execution_count": 3,
   "id": "eaeb15fc-63b9-48b8-8bc5-9a8dcb48b214",
   "metadata": {},
   "outputs": [],
   "source": [
    "def process_file(file_path):\n",
    "    data = pd.read_csv(file_path, header=None) \n",
    "    return data.values.flatten()\n"
   ]
  },
  {
   "cell_type": "code",
   "execution_count": 4,
   "id": "44c0965e-db88-4d16-9bc5-b71faadcaedd",
   "metadata": {},
   "outputs": [],
   "source": [
    "def process_folder(base_path, data_type):\n",
    "    dataset = []\n",
    "    conditions = [\"Healthy\", \"Faulty_15PercentCrack\", \"Faulty_50PercentCrack\"]\n",
    "    sensors = [\"Motor\", \"Gear\", \"GearCasing\"]\n",
    "    \n",
    "    for condition in conditions:\n",
    "        for sensor in sensors:\n",
    "            folder_path = os.path.join(base_path, condition, sensor)\n",
    "            if not os.path.exists(folder_path):\n",
    "                continue \n",
    "            \n",
    "            for file_name in os.listdir(folder_path):\n",
    "                file_path = os.path.join(folder_path, file_name)\n",
    "                try:\n",
    "                    time_series = process_file(file_path) \n",
    "                    dataset.append(list(time_series) + [condition, sensor, data_type])\n",
    "                except Exception as e:\n",
    "                    print(f\"Error processing {file_path}: {e}\")\n",
    "    return dataset"
   ]
  },
  {
   "cell_type": "code",
   "execution_count": 5,
   "id": "e0ed409f-ae79-4c93-aaa1-6bf9514977bc",
   "metadata": {},
   "outputs": [],
   "source": [
    "time_data = process_folder(time_path, \"Time\")\n",
    "frequency_data = process_folder(frequency_path, \"Frequency\")  "
   ]
  },
  {
   "cell_type": "code",
   "execution_count": 6,
   "id": "a8185b12-e56a-4d05-acf4-fb3736211f57",
   "metadata": {},
   "outputs": [],
   "source": [
    "columns = ['Data'] + ['Condition', 'Sensor', 'Type'] "
   ]
  },
  {
   "cell_type": "code",
   "execution_count": 7,
   "id": "c9e874cd-3b0e-4b88-8e85-7717813cb854",
   "metadata": {},
   "outputs": [],
   "source": [
    "time_df = pd.DataFrame(time_data)\n",
    "frequency_df = pd.DataFrame(frequency_data)"
   ]
  },
  {
   "cell_type": "code",
   "execution_count": 8,
   "id": "00d52658-83e3-4a40-b780-1eedb8be42fa",
   "metadata": {},
   "outputs": [],
   "source": [
    "final_dataset = pd.concat([time_df, frequency_df], ignore_index=True)"
   ]
  },
  {
   "cell_type": "code",
   "execution_count": 9,
   "id": "567d8b74-580a-4f8b-a4f8-56d30158d29f",
   "metadata": {},
   "outputs": [],
   "source": [
    "final_dataset = final_dataset.drop(final_dataset.columns[0], axis=1)"
   ]
  },
  {
   "cell_type": "code",
   "execution_count": 10,
   "id": "e8e78afd-b93a-49a6-84e0-61b3d2258795",
   "metadata": {},
   "outputs": [],
   "source": [
    "final_dataset.to_csv(\"simplified_gearbox_dataset.csv\", index=False)"
   ]
  },
  {
   "cell_type": "code",
   "execution_count": 11,
   "id": "92742792-9763-40c1-b7bc-441b1b475af6",
   "metadata": {},
   "outputs": [
    {
     "name": "stdout",
     "output_type": "stream",
     "text": [
      "                    1                       2                    3      \\\n",
      "0  3.906250E-5\\t-0.002228  7.812500E-5\\t-0.000796   0.000117\\t0.001085   \n",
      "1     1.000039\\t-0.001193     1.000078\\t-0.003348   1.000117\\t0.001864   \n",
      "2      2.000039\\t0.002885      2.000078\\t0.002716   2.000117\\t0.002946   \n",
      "3      3.000039\\t0.001323     3.000078\\t-0.003716  3.000117\\t-0.002658   \n",
      "4      4.000039\\t0.006794     4.000078\\t-0.001329  4.000117\\t-0.005228   \n",
      "\n",
      "                    4                      5                    6      \\\n",
      "0      0.000156\\t0.007732  0.000195\\t3.714066E-5  0.000234\\t-0.006019   \n",
      "1      1.000156\\t0.001432     1.000195\\t0.000166   1.000234\\t0.002730   \n",
      "2  2.000156\\t-9.699950E-5    2.000195\\t-0.000701  2.000234\\t-0.001655   \n",
      "3      3.000156\\t0.000222    3.000195\\t-0.001560  3.000234\\t-0.001640   \n",
      "4      4.000156\\t0.000688     4.000195\\t0.002041  4.000234\\t-0.001977   \n",
      "\n",
      "                 7                    8                      9      \\\n",
      "0  0.000273\\t-0.002078   0.000312\\t0.002464     0.000352\\t0.001043   \n",
      "1   1.000273\\t0.000233   1.000312\\t0.000596  1.000352\\t5.604223E-5   \n",
      "2   2.000273\\t0.000947  2.000312\\t-0.004599    2.000352\\t-0.001090   \n",
      "3   3.000273\\t0.007118   3.000312\\t0.004220    3.000352\\t-0.003130   \n",
      "4  4.000273\\t-0.004210  4.000312\\t-0.000393    4.000352\\t-0.000660   \n",
      "\n",
      "                   10     ...                25593                25594  \\\n",
      "0    0.000391\\t-0.005924  ...  0.999727\\t-0.004344   0.999766\\t0.003244   \n",
      "1    1.000391\\t-0.004107  ...  1.999727\\t-0.010231  1.999766\\t-0.005250   \n",
      "2  2.000391\\t7.128543E-5  ...  2.999727\\t-0.001487  2.999766\\t-0.003521   \n",
      "3    3.000391\\t-0.002483  ...  3.999727\\t-0.003196  3.999766\\t-0.005322   \n",
      "4    4.000391\\t-0.000638  ...  4.999727\\t-0.001967  4.999766\\t-0.001248   \n",
      "\n",
      "                 25595                25596                25597  \\\n",
      "0   0.999805\\t0.004400  0.999844\\t-0.004446  0.999883\\t-0.003402   \n",
      "1   1.999805\\t0.002299   1.999844\\t0.003354  1.999883\\t-0.005727   \n",
      "2  2.999805\\t-0.002040   2.999844\\t0.002104  2.999883\\t-0.001398   \n",
      "3  3.999805\\t-0.000872   3.999844\\t0.003391   3.999883\\t0.004455   \n",
      "4   4.999805\\t0.002178   4.999844\\t0.001810  4.999883\\t-0.002540   \n",
      "\n",
      "                 25598                25599    25600  25601 25602  \n",
      "0   0.999922\\t0.007708   0.999961\\t0.000304  Healthy  Motor  Time  \n",
      "1   1.999922\\t0.002808   1.999961\\t0.005155  Healthy  Motor  Time  \n",
      "2   2.999922\\t0.000957   2.999961\\t0.002051  Healthy  Motor  Time  \n",
      "3   3.999922\\t0.000522  3.999961\\t-0.002087  Healthy  Motor  Time  \n",
      "4  4.999922\\t-0.001354   4.999961\\t0.001495  Healthy  Motor  Time  \n",
      "\n",
      "[5 rows x 25602 columns]\n"
     ]
    }
   ],
   "source": [
    "print(final_dataset.head())"
   ]
  }
 ],
 "metadata": {
  "kernelspec": {
   "display_name": "Python 3 (ipykernel)",
   "language": "python",
   "name": "python3"
  },
  "language_info": {
   "codemirror_mode": {
    "name": "ipython",
    "version": 3
   },
   "file_extension": ".py",
   "mimetype": "text/x-python",
   "name": "python",
   "nbconvert_exporter": "python",
   "pygments_lexer": "ipython3",
   "version": "3.12.4"
  }
 },
 "nbformat": 4,
 "nbformat_minor": 5
}
